{
 "cells": [
  {
   "cell_type": "code",
   "execution_count": null,
   "metadata": {},
   "outputs": [],
   "source": [
    "@qml.qnode(dev_1)\n",
    "def kernel(x1, x2):\n",
    "    \"\"\"Computes the kernel with the R_Z feature map\n",
    "\n",
    "    Args:\n",
    "        x1 (np.ndarray): first sample\n",
    "        x2 (np.ndarray): second sample\n",
    "\n",
    "    Returns:\n",
    "        float: kernel value\n",
    "    \"\"\"\n",
    "    \n",
    "    angle_encoding_rz(x_1)\n",
    "\n",
    "    # conjugate of a rotation gate = inverse rotation\n",
    "    angle_encoding_rz(-x_2)\n",
    "    return qml.expval(qml.Hermitian(projector, wires=range(n_qubits)))"
   ]
  },
  {
   "cell_type": "code",
   "execution_count": null,
   "metadata": {},
   "outputs": [],
   "source": [
    "@qml.qnode(dev_1)\n",
    "def kernel(x1, x2):\n",
    "    \"\"\"Computes the kernel with the R_Z feature map\n",
    "\n",
    "    Args:\n",
    "        x1 (np.ndarray): first sample\n",
    "        x2 (np.ndarray): second sample\n",
    "\n",
    "    Returns:\n",
    "        float: kernel value\n",
    "    \"\"\"\n",
    "    AngleEmbedding(x1, wires=range(n_qubits))\n",
    "    qml.adjoint(AngleEmbedding)(x2, wires=range(n_qubits))\n",
    "    return qml.expval(qml.Hermitian(projector, wires=range(n_qubits)))"
   ]
  }
 ],
 "metadata": {
  "language_info": {
   "name": "python"
  },
  "orig_nbformat": 4
 },
 "nbformat": 4,
 "nbformat_minor": 2
}
