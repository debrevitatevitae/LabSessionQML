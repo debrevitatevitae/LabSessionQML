{
 "cells": [
  {
   "cell_type": "code",
   "execution_count": null,
   "metadata": {},
   "outputs": [],
   "source": [
    "@qml.qnode(dev)\n",
    "def circuit(weights, x):\n",
    "    \"\"\"Generates the trainable quantum circuit with binary input\n",
    "\n",
    "    Args:\n",
    "        weights (List[np.ndarray]): all the variational parameters, one\n",
    "            array per layer\n",
    "        x (List): binaries representing the input\n",
    "    \"\"\"\n",
    "    statepreparation(x)\n",
    "\n",
    "    for W in weights:\n",
    "        layer(W)\n",
    "\n",
    "    return qml.expval(qml.PauliZ(0))"
   ]
  }
 ],
 "metadata": {
  "language_info": {
   "name": "python"
  },
  "orig_nbformat": 4
 },
 "nbformat": 4,
 "nbformat_minor": 2
}
