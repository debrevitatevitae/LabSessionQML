{
 "cells": [
  {
   "cell_type": "code",
   "execution_count": null,
   "metadata": {},
   "outputs": [],
   "source": [
    "@qml.qnode(dev)\n",
    "def circuit(weights, x):\n",
    "    \"\"\"Generates the trainable quantum circuit with binary input\n",
    "\n",
    "    Args:\n",
    "        weights (List[np.ndarray]): all the variational parameters, one\n",
    "            array per layer\n",
    "        x (List): binaries representing the input\n",
    "    \"\"\"\n",
    "    statepreparation(x)\n",
    "\n",
    "    for W in weights:\n",
    "        layer(W)\n",
    "\n",
    "    return qml.expval(qml.PauliZ(0))"
   ]
  },
  {
   "cell_type": "code",
   "execution_count": null,
   "metadata": {},
   "outputs": [],
   "source": [
    "def cost(weights, bias, X, Y):\n",
    "    \"\"\"Computes the predictions and returns the MSE over the dataset\n",
    "\n",
    "    Args:\n",
    "        weights (List[np.ndarray]): all the variational parameters, one\n",
    "            array per layer\n",
    "        bias (float): classical bias value, added to the output of the quantum circuit\n",
    "        X (List[List]): list of all the binary input strings\n",
    "        Y (List): labels\n",
    "\n",
    "    Returns:\n",
    "        float: MSE over the dataset\n",
    "    \"\"\"\n",
    "    \n",
    "    predictions = [variational_classifier(weights, bias, x) for x in X]\n",
    "    return square_loss(Y, predictions)"
   ]
  }
 ],
 "metadata": {
  "language_info": {
   "name": "python"
  },
  "orig_nbformat": 4
 },
 "nbformat": 4,
 "nbformat_minor": 2
}
